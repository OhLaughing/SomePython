{
 "cells": [
  {
   "cell_type": "markdown",
   "metadata": {},
   "source": [
    "# numpy.nonzero "
   ]
  },
  {
   "cell_type": "markdown",
   "metadata": {},
   "source": [
    "numpy.nonzero 是返回tuple，tuple的个数是根据numpy的维度来决定，比如，下面的是二维"
   ]
  },
  {
   "cell_type": "code",
   "execution_count": 2,
   "metadata": {},
   "outputs": [
    {
     "data": {
      "text/plain": [
       "(array([0, 1, 2, 2], dtype=int64), array([0, 1, 0, 1], dtype=int64))"
      ]
     },
     "execution_count": 2,
     "metadata": {},
     "output_type": "execute_result"
    }
   ],
   "source": [
    "import numpy as np\n",
    "x = np.array([[3, 0, 0], [0, 4, 0], [5, 6, 0]])\n",
    "np.nonzero(x)"
   ]
  },
  {
   "cell_type": "markdown",
   "metadata": {},
   "source": [
    "返回 (array([0, 1, 2, 2], dtype=int64), array([0, 1, 0, 1], dtype=int64))， 表示4个非零元素，分别是(0,0)、(1,1)、(2,0)、(2,0)，如果是三维numpy，的nonzero方法得到的tuple的长度为3"
   ]
  },
  {
   "cell_type": "markdown",
   "metadata": {},
   "source": [
    "# numpy.searchsorted"
   ]
  },
  {
   "cell_type": "markdown",
   "metadata": {},
   "source": [
    "np.searchsorted(a,b),a是有序数组，返回b的每个元素向a里插入后的index"
   ]
  },
  {
   "cell_type": "code",
   "execution_count": 1,
   "metadata": {},
   "outputs": [
    {
     "name": "stdout",
     "output_type": "stream",
     "text": [
      "[0 0 1 1 2 2 3]\n"
     ]
    }
   ],
   "source": [
    "import numpy as np\n",
    "a = np.array([1,3,5])\n",
    "b=np.arange(0,7)\n",
    "c=np.searchsorted(a,b)\n",
    "print (c)"
   ]
  },
  {
   "cell_type": "markdown",
   "metadata": {},
   "source": [
    "# numpy.nditer"
   ]
  },
  {
   "cell_type": "markdown",
   "metadata": {},
   "source": [
    "由于numpy数组往往是多维的，因此遍历数组时，用while、for会比较费事，用numpy.nditer就解决了numpy数组遍历的问题"
   ]
  },
  {
   "cell_type": "code",
   "execution_count": 4,
   "metadata": {},
   "outputs": [
    {
     "name": "stdout",
     "output_type": "stream",
     "text": [
      "[[[ 0  1  2]\n",
      "  [ 3  4  5]\n",
      "  [ 6  7  8]]\n",
      "\n",
      " [[ 9 10 11]\n",
      "  [12 13 14]\n",
      "  [15 16 17]]]\n",
      "0 1 2 3 4 5 6 7 8 9 10 11 12 13 14 15 16 17 ----\n",
      "0 9 3 12 6 15 1 10 4 13 7 16 2 11 5 14 8 17 ----\n",
      "0 1 2 3 4 5 6 7 8 9 10 11 12 13 14 15 16 17 "
     ]
    }
   ],
   "source": [
    "import numpy as np\n",
    "a = np.arange(18).reshape(2, 3, 3)\n",
    "print(a)\n",
    "for i in np.nditer(a, order='C'):\n",
    "    print(i,end=' ')\n",
    "print('----')\n",
    "for i in np.nditer(a, order='F'):\n",
    "    print(i,end=' ')\n",
    "print('----')\n",
    "for i in np.nditer(a, order='K'):\n",
    "    print(i,end=' ')"
   ]
  },
  {
   "cell_type": "code",
   "execution_count": 5,
   "metadata": {},
   "outputs": [
    {
     "name": "stdout",
     "output_type": "stream",
     "text": [
      "0, 1, 2, 3, 4, 5, \n",
      "\n",
      "0, 1, 2, 3, 4, 5, \n",
      "\n"
     ]
    }
   ],
   "source": [
    "a = np.arange(6).reshape(2,3)\n",
    "for x in np.nditer(a.T):\n",
    "    print (x, end=\", \" )\n",
    "print ('\\n')\n",
    "for x in np.nditer(a):\n",
    "    print (x, end=\", \" )\n",
    "print ('\\n')"
   ]
  },
  {
   "cell_type": "markdown",
   "metadata": {},
   "source": [
    "上面遍历a和a.T都是输出一样"
   ]
  },
  {
   "cell_type": "code",
   "execution_count": 7,
   "metadata": {},
   "outputs": [
    {
     "name": "stdout",
     "output_type": "stream",
     "text": [
      "0, 3, 1, 4, 2, 5, \n",
      "\n",
      "0, 1, 2, 3, 4, 5, \n",
      "\n"
     ]
    }
   ],
   "source": [
    "for x in np.nditer(a,order='F'):\n",
    "    print (x, end=\", \" )\n",
    "print ('\\n')\n",
    "for x in np.nditer(a.T,order='F'):\n",
    "    print (x, end=\", \" )\n",
    "print ('\\n')"
   ]
  },
  {
   "cell_type": "markdown",
   "metadata": {},
   "source": [
    "order='F'是按列优先"
   ]
  },
  {
   "cell_type": "code",
   "execution_count": 8,
   "metadata": {},
   "outputs": [
    {
     "name": "stdout",
     "output_type": "stream",
     "text": [
      "0, 1, 2, 3, 4, 5, \n",
      "\n",
      "0, 3, 1, 4, 2, 5, \n",
      "\n"
     ]
    }
   ],
   "source": [
    "for x in np.nditer(a,order='C'):\n",
    "    print (x, end=\", \" )\n",
    "print ('\\n')\n",
    "for x in np.nditer(a.T,order='C'):\n",
    "    print (x, end=\", \" )\n",
    "print ('\\n')"
   ]
  },
  {
   "cell_type": "markdown",
   "metadata": {},
   "source": [
    "order='C'是按行优先"
   ]
  },
  {
   "cell_type": "code",
   "execution_count": 10,
   "metadata": {},
   "outputs": [
    {
     "name": "stdout",
     "output_type": "stream",
     "text": [
      "第一个数组为：\n",
      "[[10 11 12 13]\n",
      " [14 15 16 17]\n",
      " [18 19 20 21]]\n",
      "第二个数组为：\n",
      "[1 2 3 4]\n",
      "修改后的数组为：\n",
      "10:1, 11:2, 12:3, 13:4, 14:1, 15:2, 16:3, 17:4, 18:1, 19:2, 20:3, 21:4, "
     ]
    }
   ],
   "source": [
    "a = np.arange(10,22)\n",
    "a = a.reshape(3,4)\n",
    "print  ('第一个数组为：')\n",
    "print (a)\n",
    "\n",
    "print ('第二个数组为：')\n",
    "b = np.array([1,  2,  3,  4], dtype =  int)\n",
    "print (b)\n",
    "\n",
    "print ('修改后的数组为：')\n",
    "for x,y in np.nditer([a,b]):\n",
    "    print (\"%d:%d\"  %  (x,y), end=\", \" )"
   ]
  },
  {
   "cell_type": "markdown",
   "metadata": {},
   "source": [
    "上面是广播迭代功能"
   ]
  },
  {
   "cell_type": "code",
   "execution_count": 15,
   "metadata": {},
   "outputs": [
    {
     "name": "stdout",
     "output_type": "stream",
     "text": [
      "第一个数组为：\n",
      "[[10 11 12 13]\n",
      " [14 15 16 17]\n",
      " [18 19 20 21]]\n",
      "第二个数组为：\n",
      "[[1]\n",
      " [2]\n",
      " [3]]\n",
      "修改后的数组为：\n",
      "10:1, 11:1, 12:1, 13:1, 14:2, 15:2, 16:2, 17:2, 18:3, 19:3, 20:3, 21:3, "
     ]
    }
   ],
   "source": [
    "a = np.arange(10,22)\n",
    "a = a.reshape(3,4)\n",
    "print  ('第一个数组为：')\n",
    "print (a)\n",
    "\n",
    "print ('第二个数组为：')\n",
    "b = np.array([[1],  [2],  [3]], dtype =  int)\n",
    "print (b)\n",
    "\n",
    "print ('修改后的数组为：')\n",
    "for x,y in np.nditer([a,b]):\n",
    "    print (\"%d:%d\"  %  (x,y), end=\", \" )"
   ]
  },
  {
   "cell_type": "markdown",
   "metadata": {},
   "source": [
    "# np.bincount"
   ]
  },
  {
   "cell_type": "code",
   "execution_count": 2,
   "metadata": {},
   "outputs": [
    {
     "name": "stdout",
     "output_type": "stream",
     "text": [
      "[0 1 1 1 1 1 1]\n"
     ]
    }
   ],
   "source": [
    "import numpy as np\n",
    "x = np.arange(1,7)\n",
    "i = np.bincount(x)\n",
    "print(i)"
   ]
  },
  {
   "cell_type": "markdown",
   "metadata": {},
   "source": [
    "输出[0 1 1 1 1 1 1]表示，1~6出现的次数为1, np.bincount返回数组的长度为输入x的最大值加1"
   ]
  },
  {
   "cell_type": "code",
   "execution_count": 3,
   "metadata": {},
   "outputs": [
    {
     "name": "stdout",
     "output_type": "stream",
     "text": [
      "[1 2 3 4 5 6]\n",
      "[7 5 3 6 1 7]\n",
      "[0. 5. 0. 3. 0. 2. 4. 7.]\n"
     ]
    }
   ],
   "source": [
    "x = np.arange(1,7)\n",
    "i = np.random.randint(0,10,6)\n",
    "f = np.bincount(i,x)\n",
    "print(x)\n",
    "print(i)\n",
    "print(f)"
   ]
  },
  {
   "cell_type": "code",
   "execution_count": null,
   "metadata": {},
   "outputs": [],
   "source": [
    "np.bincount 入参为两个的时候，两个入参list长度必须相同，返回数组长度为第二个入参中最大值加1，\n",
    "返回的数组每个index的值为第二个数组的对应第一个数组的值的和"
   ]
  },
  {
   "cell_type": "markdown",
   "metadata": {},
   "source": [
    "# numpy中的..."
   ]
  },
  {
   "cell_type": "code",
   "execution_count": 7,
   "metadata": {},
   "outputs": [
    {
     "name": "stdout",
     "output_type": "stream",
     "text": [
      "[[[ 0  1  2  3]\n",
      "  [ 4  5  6  7]\n",
      "  [ 8  9 10 11]]\n",
      "\n",
      " [[12 13 14 15]\n",
      "  [16 17 18 19]\n",
      "  [20 21 22 23]]]\n",
      "[[ 0  1  2  3]\n",
      " [ 4  5  6  7]\n",
      " [ 8  9 10 11]]\n",
      "[[ 0  1  2  3]\n",
      " [ 4  5  6  7]\n",
      " [ 8  9 10 11]]\n"
     ]
    }
   ],
   "source": [
    "a = np.arange(2*3*4).reshape(2,3,4)\n",
    "print(a)\n",
    "print(a[0,...])\n",
    "print(a[0,:,:])"
   ]
  },
  {
   "cell_type": "markdown",
   "metadata": {},
   "source": [
    "...表示所有维度，a[0,...]表示第一个维度取0，其他取所有维度，"
   ]
  },
  {
   "cell_type": "code",
   "execution_count": 9,
   "metadata": {},
   "outputs": [
    {
     "name": "stdout",
     "output_type": "stream",
     "text": [
      "[[ 0  4  8]\n",
      " [12 16 20]]\n"
     ]
    }
   ],
   "source": [
    "print(a[...,0])"
   ]
  },
  {
   "cell_type": "code",
   "execution_count": 21,
   "metadata": {},
   "outputs": [
    {
     "name": "stdout",
     "output_type": "stream",
     "text": [
      "[[1. 1. 1.]\n",
      " [1. 1. 1.]\n",
      " [1. 1. 1.]]\n",
      "[[[1.]\n",
      "  [1.]\n",
      "  [1.]]\n",
      "\n",
      " [[1.]\n",
      "  [1.]\n",
      "  [1.]]\n",
      "\n",
      " [[1.]\n",
      "  [1.]\n",
      "  [1.]]]\n",
      "(3, 3)\n",
      "(3, 3, 1)\n"
     ]
    }
   ],
   "source": [
    "a = np.ones((3,3))\n",
    "b = a[...,None]\n",
    "print(a)\n",
    "print(b)\n",
    "print(a.shape)\n",
    "print(b.shape)"
   ]
  },
  {
   "cell_type": "markdown",
   "metadata": {},
   "source": [
    "可以通过...来表示所有的维度，来增加一个维度"
   ]
  },
  {
   "cell_type": "markdown",
   "metadata": {},
   "source": [
    "# numpy中的axis"
   ]
  },
  {
   "cell_type": "code",
   "execution_count": 17,
   "metadata": {
    "scrolled": true
   },
   "outputs": [
    {
     "name": "stdout",
     "output_type": "stream",
     "text": [
      "(2, 3, 4)\n",
      "[[ 6 22 38]\n",
      " [54 70 86]]\n",
      "[[12 14 16 18]\n",
      " [20 22 24 26]\n",
      " [28 30 32 34]]\n"
     ]
    }
   ],
   "source": [
    "import numpy as np\n",
    "a = np.arange(24).reshape(2,3,4)\n",
    "print(a.shape)\n",
    "print(a.sum(axis=2))\n",
    "print(a.sum(axis=0))"
   ]
  },
  {
   "cell_type": "markdown",
   "metadata": {},
   "source": [
    "a是shape为(2,3,4)的矩阵，axis入参可以是int，也可以是int的tuple， "
   ]
  },
  {
   "cell_type": "code",
   "execution_count": 18,
   "metadata": {},
   "outputs": [
    {
     "name": "stdout",
     "output_type": "stream",
     "text": [
      "[ 66 210]\n"
     ]
    }
   ],
   "source": [
    "print(np.sum(a,axis=(-2,-1)))"
   ]
  },
  {
   "cell_type": "markdown",
   "metadata": {},
   "source": [
    "### 已知A\\B\\C 点， 求点C距离A与B确定直线的距离"
   ]
  },
  {
   "cell_type": "code",
   "execution_count": 23,
   "metadata": {},
   "outputs": [
    {
     "name": "stdout",
     "output_type": "stream",
     "text": [
      "[[5]\n",
      " [2]]\n",
      "[[0]\n",
      " [6]]\n",
      "[[2]\n",
      " [7]]\n"
     ]
    }
   ],
   "source": [
    "import numpy as np\n",
    "a = np.random.randint(0,10,(2,1))\n",
    "b = np.random.randint(0,10,(2,1))\n",
    "c = np.random.randint(0,10,(2,1))\n",
    "print(a)\n",
    "print(b)\n",
    "print(c)"
   ]
  },
  {
   "cell_type": "markdown",
   "metadata": {},
   "source": [
    "实现的点p距由点P0和P1确定的直线的距离，如下方法（参考numpy-100（78））"
   ]
  },
  {
   "cell_type": "code",
   "execution_count": 7,
   "metadata": {},
   "outputs": [],
   "source": [
    "def distance1(P0, P1, p):\n",
    "    T = P1 - P0\n",
    "    L = (T ** 2).sum(axis=1)\n",
    "    t1 = P0 - p\n",
    "    t2 = -(t1 * T)\n",
    "    L = L.reshape(len(L), 1)\n",
    "    U = t2 / L\n",
    "    U = np.sum(U, axis=1)\n",
    "    U = U.reshape(len(U), 1)\n",
    "    D = P0 + U * T - p\n",
    "    return np.sqrt((D ** 2).sum(axis=1))"
   ]
  },
  {
   "cell_type": "markdown",
   "metadata": {},
   "source": [
    "# np.lib.stride_tricks.as_strided"
   ]
  },
  {
   "cell_type": "code",
   "execution_count": 17,
   "metadata": {},
   "outputs": [
    {
     "name": "stdout",
     "output_type": "stream",
     "text": [
      "[[0 3 4 8 3]\n",
      " [1 6 7 6 1]\n",
      " [7 9 2 4 9]\n",
      " [6 4 5 0 2]\n",
      " [6 4 3 3 0]]\n"
     ]
    }
   ],
   "source": [
    "data = np.random.randint(0,10,(5,5))\n",
    "print(data)"
   ]
  },
  {
   "cell_type": "code",
   "execution_count": 19,
   "metadata": {},
   "outputs": [
    {
     "data": {
      "text/plain": [
       "array([[[[0, 3, 4],\n",
       "         [1, 6, 7],\n",
       "         [7, 9, 2]],\n",
       "\n",
       "        [[3, 4, 8],\n",
       "         [6, 7, 6],\n",
       "         [9, 2, 4]],\n",
       "\n",
       "        [[4, 8, 3],\n",
       "         [7, 6, 1],\n",
       "         [2, 4, 9]]],\n",
       "\n",
       "\n",
       "       [[[1, 6, 7],\n",
       "         [7, 9, 2],\n",
       "         [6, 4, 5]],\n",
       "\n",
       "        [[6, 7, 6],\n",
       "         [9, 2, 4],\n",
       "         [4, 5, 0]],\n",
       "\n",
       "        [[7, 6, 1],\n",
       "         [2, 4, 9],\n",
       "         [5, 0, 2]]],\n",
       "\n",
       "\n",
       "       [[[7, 9, 2],\n",
       "         [6, 4, 5],\n",
       "         [6, 4, 3]],\n",
       "\n",
       "        [[9, 2, 4],\n",
       "         [4, 5, 0],\n",
       "         [4, 3, 3]],\n",
       "\n",
       "        [[2, 4, 9],\n",
       "         [5, 0, 2],\n",
       "         [3, 3, 0]]]])"
      ]
     },
     "execution_count": 19,
     "metadata": {},
     "output_type": "execute_result"
    }
   ],
   "source": [
    "a=np.lib.stride_tricks.as_strided(data,shape=(3,3,3,3),strides=(20,4,20,4))\n",
    "a"
   ]
  },
  {
   "cell_type": "markdown",
   "metadata": {},
   "source": [
    "shape=(3,3,3,3)比较好理解，就是输出的张量大小，strides=(20,4,20,4)表示每个维度各个元素之间的距离"
   ]
  },
  {
   "cell_type": "markdown",
   "metadata": {},
   "source": [
    "## strides"
   ]
  },
  {
   "cell_type": "code",
   "execution_count": 16,
   "metadata": {},
   "outputs": [
    {
     "name": "stdout",
     "output_type": "stream",
     "text": [
      "0\n",
      "(12, 4)\n",
      "int32\n"
     ]
    }
   ],
   "source": [
    "a = np.arange(9).reshape(3,3)\n",
    "print(a[0,0])\n",
    "print(a.strides)\n",
    "print(a.dtype)"
   ]
  },
  {
   "cell_type": "markdown",
   "metadata": {},
   "source": [
    "a.strides为(12, 4), 表示某个维度下，每个元素之间的距离是多少字节，a是二维矩阵，第0维（我这么说）a[0,0]到a[0,1]之间间隔一个元素，a的dtype为int32，为4个字节，因此为4，第一维，两元素之间的距离例如a[0,0]到a[1,0],间隔3个元素，因此为3*4=12"
   ]
  },
  {
   "cell_type": "markdown",
   "metadata": {},
   "source": [
    "# numpy view"
   ]
  },
  {
   "cell_type": "code",
   "execution_count": 26,
   "metadata": {},
   "outputs": [
    {
     "name": "stdout",
     "output_type": "stream",
     "text": [
      "False\n",
      "True\n",
      "True\n"
     ]
    }
   ],
   "source": [
    "a=np.array([1,2,3,4])\n",
    "c=a.view()\n",
    "b=a.reshape(2,2)\n",
    "print(c is a)\n",
    "print(c.base is a)\n",
    "print (np.may_share_memory(a, b))"
   ]
  },
  {
   "cell_type": "markdown",
   "metadata": {},
   "source": [
    "共享内存"
   ]
  },
  {
   "cell_type": "markdown",
   "metadata": {},
   "source": [
    "# np.add.reduceat"
   ]
  },
  {
   "cell_type": "code",
   "execution_count": 3,
   "metadata": {},
   "outputs": [
    {
     "name": "stdout",
     "output_type": "stream",
     "text": [
      "[[0 1 2]\n",
      " [3 4 5]\n",
      " [6 7 8]]\n",
      "[ 9 12 15]\n",
      "[ 9 12 15]\n",
      "[ 3 12 21]\n"
     ]
    }
   ],
   "source": [
    "a = np.arange(9).reshape(3,3)\n",
    "print(a)\n",
    "print(np.add.reduce(a))\n",
    "print(np.add.reduce(a,0))\n",
    "print(np.add.reduce(a,1))"
   ]
  },
  {
   "cell_type": "markdown",
   "metadata": {},
   "source": [
    "np.add.reduce(a,0)的0是axis的参数值，默认为0， 如果，a.shape=(2,3,4)，np.add.reduce(a,0)得到（3,4),np.add.reduce(a,1)得到（2,4),np.add.reduce(a,2)得到（2,3)"
   ]
  },
  {
   "cell_type": "code",
   "execution_count": 4,
   "metadata": {},
   "outputs": [
    {
     "name": "stdout",
     "output_type": "stream",
     "text": [
      "[0 1 2 3 4 5 6 7 8]\n",
      "[ 6  4 10 26]\n"
     ]
    }
   ],
   "source": [
    "a =np.arange(9)\n",
    "b =np.add.reduceat(a,[0,4,1,5])\n",
    "print(a)\n",
    "print(b)"
   ]
  },
  {
   "cell_type": "markdown",
   "metadata": {},
   "source": [
    "[ 6  4 10 26]是6是0-4的和，10是1-5的和，6和10后的值4和26，如果不是最后一个，就是index的值（4），如果是最后一个，就是从index（5）到最后的和(5+6+7+8)"
   ]
  },
  {
   "cell_type": "code",
   "execution_count": 36,
   "metadata": {},
   "outputs": [
    {
     "name": "stdout",
     "output_type": "stream",
     "text": [
      "[0 1 2 3 4 5 6 7 8]\n",
      "[ 3 12 21]\n"
     ]
    }
   ],
   "source": [
    "a =np.arange(9)\n",
    "b =np.add.reduceat(a,np.arange(0,9,3))\n",
    "print(a)\n",
    "print(b)"
   ]
  },
  {
   "cell_type": "code",
   "execution_count": null,
   "metadata": {},
   "outputs": [],
   "source": [
    "0+1+2=3,3+4+5=12,6+7+8=21， 入参indices，的长度是奇数与偶数，返回的结果是不同的"
   ]
  },
  {
   "cell_type": "markdown",
   "metadata": {},
   "source": [
    "# np.ceil"
   ]
  },
  {
   "cell_type": "code",
   "execution_count": 2,
   "metadata": {},
   "outputs": [
    {
     "name": "stdout",
     "output_type": "stream",
     "text": [
      "[-0.41875273  4.33634524  4.52020078  6.9540971   9.31027603  2.60645365\n",
      "  7.40756695  0.35796198 -4.62597617 -7.77386655]\n",
      "[-0.  5.  5.  7. 10.  3.  8.  1. -4. -7.]\n"
     ]
    }
   ],
   "source": [
    "import numpy as np\n",
    "a = np.random.uniform(-10,10,10)\n",
    "print(a)\n",
    "print(np.ceil(a))"
   ]
  },
  {
   "cell_type": "markdown",
   "metadata": {},
   "source": [
    "返回比该数大的最近的整数"
   ]
  },
  {
   "cell_type": "markdown",
   "metadata": {},
   "source": [
    "# np.pad"
   ]
  },
  {
   "cell_type": "markdown",
   "metadata": {},
   "source": [
    "# （5，3）减（5，）"
   ]
  },
  {
   "cell_type": "code",
   "execution_count": 14,
   "metadata": {},
   "outputs": [
    {
     "name": "stdout",
     "output_type": "stream",
     "text": [
      "(5, 3)\n",
      "(5,)\n"
     ]
    },
    {
     "ename": "ValueError",
     "evalue": "operands could not be broadcast together with shapes (5,3) (5,) ",
     "output_type": "error",
     "traceback": [
      "\u001b[1;31m---------------------------------------------------------------------------\u001b[0m",
      "\u001b[1;31mValueError\u001b[0m                                Traceback (most recent call last)",
      "\u001b[1;32m<ipython-input-14-8481b704cd32>\u001b[0m in \u001b[0;36m<module>\u001b[1;34m\u001b[0m\n\u001b[0;32m      3\u001b[0m \u001b[0mprint\u001b[0m\u001b[1;33m(\u001b[0m\u001b[0ma\u001b[0m\u001b[1;33m.\u001b[0m\u001b[0mshape\u001b[0m\u001b[1;33m)\u001b[0m\u001b[1;33m\u001b[0m\u001b[1;33m\u001b[0m\u001b[0m\n\u001b[0;32m      4\u001b[0m \u001b[0mprint\u001b[0m\u001b[1;33m(\u001b[0m\u001b[0mb\u001b[0m\u001b[1;33m.\u001b[0m\u001b[0mshape\u001b[0m\u001b[1;33m)\u001b[0m\u001b[1;33m\u001b[0m\u001b[1;33m\u001b[0m\u001b[0m\n\u001b[1;32m----> 5\u001b[1;33m \u001b[0mnp\u001b[0m\u001b[1;33m.\u001b[0m\u001b[0msubtract\u001b[0m\u001b[1;33m(\u001b[0m\u001b[0ma\u001b[0m\u001b[1;33m,\u001b[0m\u001b[0mb\u001b[0m\u001b[1;33m)\u001b[0m\u001b[1;33m\u001b[0m\u001b[1;33m\u001b[0m\u001b[0m\n\u001b[0m",
      "\u001b[1;31mValueError\u001b[0m: operands could not be broadcast together with shapes (5,3) (5,) "
     ]
    }
   ],
   "source": [
    "a = np.random.randint(0,10,(5,3))\n",
    "b=np.random.randint(0,10,5)\n",
    "print(a.shape)\n",
    "print(b.shape)\n",
    "np.subtract(a,b)"
   ]
  },
  {
   "cell_type": "markdown",
   "metadata": {},
   "source": [
    "直接减，提示失败，要把b转成（5，1），然后再减"
   ]
  },
  {
   "cell_type": "code",
   "execution_count": 13,
   "metadata": {},
   "outputs": [
    {
     "name": "stdout",
     "output_type": "stream",
     "text": [
      "(5, 1)\n",
      "[[ 0 -4 -1]\n",
      " [ 1 -5  1]\n",
      " [-8 -8 -4]\n",
      " [-3  4 -4]\n",
      " [-1 -5  2]]\n"
     ]
    }
   ],
   "source": [
    "b=b.reshape(-1,1)\n",
    "print(b.shape)\n",
    "print(a-b)"
   ]
  },
  {
   "cell_type": "code",
   "execution_count": 15,
   "metadata": {},
   "outputs": [
    {
     "data": {
      "text/plain": [
       "array([[0.71716732, 0.21879721, 0.29707115],\n",
       "       [0.50162136, 0.17568624, 0.15386987],\n",
       "       [0.39055754, 0.42969877, 0.12366557],\n",
       "       [0.40176057, 0.60288569, 0.1546302 ],\n",
       "       [0.73802933, 0.10498121, 0.39020554]])"
      ]
     },
     "execution_count": 15,
     "metadata": {},
     "output_type": "execute_result"
    }
   ],
   "source": [
    "c=np.random.random((5,3))\n",
    "d=np.random.random(3)\n",
    "c-d"
   ]
  },
  {
   "cell_type": "markdown",
   "metadata": {},
   "source": [
    "(5,3)减(3,)就是可以的"
   ]
  },
  {
   "cell_type": "markdown",
   "metadata": {},
   "source": [
    "# np.concatenate"
   ]
  },
  {
   "cell_type": "code",
   "execution_count": null,
   "metadata": {},
   "outputs": [],
   "source": [
    "将多个numpy数组合并成一个"
   ]
  },
  {
   "cell_type": "code",
   "execution_count": 3,
   "metadata": {},
   "outputs": [
    {
     "name": "stdout",
     "output_type": "stream",
     "text": [
      "[[0 1]\n",
      " [2 3]\n",
      " [4 5]\n",
      " [6 7]]\n"
     ]
    }
   ],
   "source": [
    "a=np.arange(0,4).reshape(2,2)\n",
    "b=np.arange(4,8).reshape(2,2)\n",
    "print(np.concatenate((a,b)))"
   ]
  },
  {
   "cell_type": "code",
   "execution_count": null,
   "metadata": {},
   "outputs": [],
   "source": [
    "print(np.concatenate([a,b)))"
   ]
  }
 ],
 "metadata": {
  "kernelspec": {
   "display_name": "Python 3",
   "language": "python",
   "name": "python3"
  },
  "language_info": {
   "codemirror_mode": {
    "name": "ipython",
    "version": 3
   },
   "file_extension": ".py",
   "mimetype": "text/x-python",
   "name": "python",
   "nbconvert_exporter": "python",
   "pygments_lexer": "ipython3",
   "version": "3.7.4"
  }
 },
 "nbformat": 4,
 "nbformat_minor": 2
}
