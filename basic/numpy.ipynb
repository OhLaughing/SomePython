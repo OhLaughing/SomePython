{
 "cells": [
  {
   "cell_type": "markdown",
   "metadata": {},
   "source": [
    "# numpy.nonzero "
   ]
  },
  {
   "cell_type": "markdown",
   "metadata": {},
   "source": [
    "numpy.nonzero 是返回tuple，tuple的个数是根据numpy的维度来决定，比如，下面的是二维"
   ]
  },
  {
   "cell_type": "code",
   "execution_count": 4,
   "metadata": {},
   "outputs": [
    {
     "data": {
      "text/plain": [
       "(array([0, 1, 2, 2], dtype=int64), array([0, 1, 0, 1], dtype=int64))"
      ]
     },
     "execution_count": 4,
     "metadata": {},
     "output_type": "execute_result"
    }
   ],
   "source": [
    "import numpy as np\n",
    "x = np.array([[3, 0, 0], [0, 4, 0], [5, 6, 0]])\n",
    "np.nonzero(x)"
   ]
  },
  {
   "cell_type": "markdown",
   "metadata": {},
   "source": [
    "返回 (array([0, 1, 2, 2], dtype=int64), array([0, 1, 0, 1], dtype=int64))， 表示4个非零元素，分别是(0,0)、(1,1)、(2,0)、(2,0)，如果是三维numpy，的nonzero方法得到的tuple的长度为3"
   ]
  },
  {
   "cell_type": "markdown",
   "metadata": {},
   "source": [
    "# numpy.searchsorted"
   ]
  },
  {
   "cell_type": "markdown",
   "metadata": {},
   "source": [
    "np.searchsorted(a,b),a是有序数组，返回b的每个元素向a里插入后的index"
   ]
  },
  {
   "cell_type": "code",
   "execution_count": 1,
   "metadata": {},
   "outputs": [
    {
     "name": "stdout",
     "output_type": "stream",
     "text": [
      "[0 0 1 1 2 2 3]\n"
     ]
    }
   ],
   "source": [
    "import numpy as np\n",
    "a = np.array([1,3,5])\n",
    "b=np.arange(0,7)\n",
    "c=np.searchsorted(a,b)\n",
    "print (c)"
   ]
  },
  {
   "cell_type": "markdown",
   "metadata": {},
   "source": [
    "# numpy.nditer"
   ]
  },
  {
   "cell_type": "markdown",
   "metadata": {},
   "source": [
    "由于numpy数组往往是多维的，因此遍历数组时，用while、for会比较费事，用numpy.nditer就解决了numpy数组遍历的问题"
   ]
  },
  {
   "cell_type": "code",
   "execution_count": 4,
   "metadata": {},
   "outputs": [
    {
     "name": "stdout",
     "output_type": "stream",
     "text": [
      "[[[ 0  1  2]\n",
      "  [ 3  4  5]\n",
      "  [ 6  7  8]]\n",
      "\n",
      " [[ 9 10 11]\n",
      "  [12 13 14]\n",
      "  [15 16 17]]]\n",
      "0 1 2 3 4 5 6 7 8 9 10 11 12 13 14 15 16 17 ----\n",
      "0 9 3 12 6 15 1 10 4 13 7 16 2 11 5 14 8 17 ----\n",
      "0 1 2 3 4 5 6 7 8 9 10 11 12 13 14 15 16 17 "
     ]
    }
   ],
   "source": [
    "import numpy as np\n",
    "a = np.arange(18).reshape(2, 3, 3)\n",
    "print(a)\n",
    "for i in np.nditer(a, order='C'):\n",
    "    print(i,end=' ')\n",
    "print('----')\n",
    "for i in np.nditer(a, order='F'):\n",
    "    print(i,end=' ')\n",
    "print('----')\n",
    "for i in np.nditer(a, order='K'):\n",
    "    print(i,end=' ')"
   ]
  },
  {
   "cell_type": "code",
   "execution_count": 5,
   "metadata": {},
   "outputs": [
    {
     "name": "stdout",
     "output_type": "stream",
     "text": [
      "0, 1, 2, 3, 4, 5, \n",
      "\n",
      "0, 1, 2, 3, 4, 5, \n",
      "\n"
     ]
    }
   ],
   "source": [
    "a = np.arange(6).reshape(2,3)\n",
    "for x in np.nditer(a.T):\n",
    "    print (x, end=\", \" )\n",
    "print ('\\n')\n",
    "for x in np.nditer(a):\n",
    "    print (x, end=\", \" )\n",
    "print ('\\n')"
   ]
  },
  {
   "cell_type": "markdown",
   "metadata": {},
   "source": [
    "上面遍历a和a.T都是输出一样"
   ]
  },
  {
   "cell_type": "code",
   "execution_count": 7,
   "metadata": {},
   "outputs": [
    {
     "name": "stdout",
     "output_type": "stream",
     "text": [
      "0, 3, 1, 4, 2, 5, \n",
      "\n",
      "0, 1, 2, 3, 4, 5, \n",
      "\n"
     ]
    }
   ],
   "source": [
    "for x in np.nditer(a,order='F'):\n",
    "    print (x, end=\", \" )\n",
    "print ('\\n')\n",
    "for x in np.nditer(a.T,order='F'):\n",
    "    print (x, end=\", \" )\n",
    "print ('\\n')"
   ]
  },
  {
   "cell_type": "markdown",
   "metadata": {},
   "source": [
    "order='F'是按列优先"
   ]
  },
  {
   "cell_type": "code",
   "execution_count": 8,
   "metadata": {},
   "outputs": [
    {
     "name": "stdout",
     "output_type": "stream",
     "text": [
      "0, 1, 2, 3, 4, 5, \n",
      "\n",
      "0, 3, 1, 4, 2, 5, \n",
      "\n"
     ]
    }
   ],
   "source": [
    "for x in np.nditer(a,order='C'):\n",
    "    print (x, end=\", \" )\n",
    "print ('\\n')\n",
    "for x in np.nditer(a.T,order='C'):\n",
    "    print (x, end=\", \" )\n",
    "print ('\\n')"
   ]
  },
  {
   "cell_type": "markdown",
   "metadata": {},
   "source": [
    "order='C'是按行优先"
   ]
  },
  {
   "cell_type": "code",
   "execution_count": 10,
   "metadata": {},
   "outputs": [
    {
     "name": "stdout",
     "output_type": "stream",
     "text": [
      "第一个数组为：\n",
      "[[10 11 12 13]\n",
      " [14 15 16 17]\n",
      " [18 19 20 21]]\n",
      "第二个数组为：\n",
      "[1 2 3 4]\n",
      "修改后的数组为：\n",
      "10:1, 11:2, 12:3, 13:4, 14:1, 15:2, 16:3, 17:4, 18:1, 19:2, 20:3, 21:4, "
     ]
    }
   ],
   "source": [
    "a = np.arange(10,22)\n",
    "a = a.reshape(3,4)\n",
    "print  ('第一个数组为：')\n",
    "print (a)\n",
    "\n",
    "print ('第二个数组为：')\n",
    "b = np.array([1,  2,  3,  4], dtype =  int)\n",
    "print (b)\n",
    "\n",
    "print ('修改后的数组为：')\n",
    "for x,y in np.nditer([a,b]):\n",
    "    print (\"%d:%d\"  %  (x,y), end=\", \" )"
   ]
  },
  {
   "cell_type": "markdown",
   "metadata": {},
   "source": [
    "上面是广播迭代功能"
   ]
  },
  {
   "cell_type": "code",
   "execution_count": 15,
   "metadata": {},
   "outputs": [
    {
     "name": "stdout",
     "output_type": "stream",
     "text": [
      "第一个数组为：\n",
      "[[10 11 12 13]\n",
      " [14 15 16 17]\n",
      " [18 19 20 21]]\n",
      "第二个数组为：\n",
      "[[1]\n",
      " [2]\n",
      " [3]]\n",
      "修改后的数组为：\n",
      "10:1, 11:1, 12:1, 13:1, 14:2, 15:2, 16:2, 17:2, 18:3, 19:3, 20:3, 21:3, "
     ]
    }
   ],
   "source": [
    "a = np.arange(10,22)\n",
    "a = a.reshape(3,4)\n",
    "print  ('第一个数组为：')\n",
    "print (a)\n",
    "\n",
    "print ('第二个数组为：')\n",
    "b = np.array([[1],  [2],  [3]], dtype =  int)\n",
    "print (b)\n",
    "\n",
    "print ('修改后的数组为：')\n",
    "for x,y in np.nditer([a,b]):\n",
    "    print (\"%d:%d\"  %  (x,y), end=\", \" )"
   ]
  },
  {
   "cell_type": "code",
   "execution_count": null,
   "metadata": {},
   "outputs": [],
   "source": []
  }
 ],
 "metadata": {
  "kernelspec": {
   "display_name": "Python 3",
   "language": "python",
   "name": "python3"
  },
  "language_info": {
   "codemirror_mode": {
    "name": "ipython",
    "version": 3
   },
   "file_extension": ".py",
   "mimetype": "text/x-python",
   "name": "python",
   "nbconvert_exporter": "python",
   "pygments_lexer": "ipython3",
   "version": "3.7.4"
  }
 },
 "nbformat": 4,
 "nbformat_minor": 2
}
