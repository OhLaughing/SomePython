{
 "cells": [
  {
   "cell_type": "markdown",
   "metadata": {},
   "source": [
    "# keras.layers.Embedding"
   ]
  },
  {
   "cell_type": "markdown",
   "metadata": {},
   "source": [
    "Embedding的初始化参数有input_dim,output_dim，接收的输入是(samples, sequence_length)，其实sequence_length就是Embedding入参的input_length的值，\n",
    "在：https://tensorflow.google.cn/tutorials/keras/text_classification 这个例子中，创建Embedding没有指定input_length：\n",
    "model.add(keras.layers.Embedding(vocab_size, 16))\n",
    "会根据输入自动计算出input_length的值为256，如果知道input_length的值，不为256：\n",
    "model.add(keras.layers.Embedding(vocab_size, 16,input_length=250)),则在训练时就会抛出，则会跑错：\n",
    "ValueError: Error when checking input: expected embedding_input to have shape (250,) but got array with shape (256,)\n"
   ]
  },
  {
   "cell_type": "code",
   "execution_count": 24,
   "metadata": {},
   "outputs": [
    {
     "name": "stdout",
     "output_type": "stream",
     "text": [
      "********\n",
      "[[0.00209284 0.0078659  0.00236001 0.00486131 0.00191723 0.00560343\n",
      "  0.00273575 0.006591  ]\n",
      " [0.00268066 0.00589731 0.00264891 0.00494279 0.00298504 0.00666485\n",
      "  0.00503721 0.00556641]\n",
      " [0.00421988 0.00434062 0.00108492 0.00338248 0.0038232  0.00575034\n",
      "  0.0048814  0.00604734]\n",
      " [0.00568647 0.0042659  0.00526774 0.00439462 0.0065821  0.00694089\n",
      "  0.00378257 0.00510981]\n",
      " [0.00541059 0.00477086 0.0039784  0.00505773 0.00470322 0.0069272\n",
      "  0.0037468  0.00643169]]\n",
      "(5, 8)\n"
     ]
    }
   ],
   "source": [
    "from tensorflow import keras\n",
    "import numpy as np\n",
    "vocab_size = 10\n",
    "np.random.seed(2)\n",
    "input_array = np.random.randint(0,10,(5,3))\n",
    "model = keras.Sequential()\n",
    "model.add(keras.layers.Embedding(vocab_size, 8,input_length=3))\n",
    "model.add(keras.layers.GlobalAveragePooling1D())\n",
    "model.compile('rmsprop', 'mse')\n",
    "c = np.random.random((10,8))\n",
    "\n",
    "model.layers[0].set_weights([c*0.01])\n",
    "output_array = model.predict(input_array)\n",
    "print('*'*8)\n",
    "print(output_array)\n",
    "print(output_array.shape)\n"
   ]
  },
  {
   "cell_type": "markdown",
   "metadata": {},
   "source": [
    "# GlobalAveragePooling1D"
   ]
  },
  {
   "cell_type": "markdown",
   "metadata": {},
   "source": [
    "GlobalAveragePooling1D的作用是在一个维度求平均值，测试的方法可以把上个例子的GlobalAveragePooling1D从模型中去除，然后输出的output_array就是(5,3,8)的张量，然后在axis=1的维度求均值，得到的(5,8)的矩阵跟上面的例子输出的一样"
   ]
  },
  {
   "cell_type": "code",
   "execution_count": 25,
   "metadata": {},
   "outputs": [
    {
     "name": "stdout",
     "output_type": "stream",
     "text": [
      "********\n",
      "[[[0.00013017 0.00797405 0.00269389 0.00582685 0.00025551 0.00662202\n",
      "   0.00387523 0.00497074]\n",
      "  [0.00013017 0.00797405 0.00269389 0.00582685 0.00025551 0.00662202\n",
      "   0.00387523 0.00497074]\n",
      "  [0.00601817 0.0076496  0.00169225 0.00293023 0.00524067 0.00356624\n",
      "   0.00045679 0.00983153]]\n",
      "\n",
      " [[0.00349826 0.00467787 0.00201743 0.00640407 0.0048307  0.00505237\n",
      "   0.00386893 0.00793637]\n",
      "  [0.00013017 0.00797405 0.00269389 0.00582685 0.00025551 0.00662202\n",
      "   0.00387523 0.00497074]\n",
      "  [0.00441355 0.00504    0.00323541 0.00259745 0.0038689  0.00832017\n",
      "   0.00736747 0.00379211]]\n",
      "\n",
      " [[0.00349826 0.00467787 0.00201743 0.00640407 0.0048307  0.00505237\n",
      "   0.00386893 0.00793637]\n",
      "  [0.00065287 0.00428122 0.00096531 0.0012716  0.00596745 0.00226012\n",
      "   0.00106946 0.00220306]\n",
      "  [0.00850851 0.00406275 0.00027202 0.00247177 0.00067144 0.00993852\n",
      "   0.0097058  0.00800258]]\n",
      "\n",
      " [[0.00427546 0.00436747 0.00776559 0.00535604 0.00953742 0.00544208\n",
      "   0.00082095 0.00366342]\n",
      "  [0.00427546 0.00436747 0.00776559 0.00535604 0.00953742 0.00544208\n",
      "   0.00082095 0.00366342]\n",
      "  [0.00850851 0.00406275 0.00027202 0.00247177 0.00067144 0.00993852\n",
      "   0.0097058  0.00800258]]\n",
      "\n",
      " [[0.00441355 0.00504    0.00323541 0.00259745 0.0038689  0.00832017\n",
      "   0.00736747 0.00379211]\n",
      "  [0.00580004 0.00162299 0.00700752 0.00964551 0.00500008 0.0088952\n",
      "   0.00341614 0.00567144]\n",
      "  [0.00601817 0.0076496  0.00169225 0.00293023 0.00524067 0.00356624\n",
      "   0.00045679 0.00983153]]]\n",
      "(5, 3, 8)\n",
      "[[0.00209284 0.0078659  0.00236001 0.00486131 0.00191723 0.00560343\n",
      "  0.00273575 0.006591  ]\n",
      " [0.00268066 0.00589731 0.00264891 0.00494279 0.00298504 0.00666485\n",
      "  0.00503721 0.00556641]\n",
      " [0.00421988 0.00434062 0.00108492 0.00338248 0.0038232  0.00575034\n",
      "  0.0048814  0.00604734]\n",
      " [0.00568647 0.0042659  0.00526774 0.00439462 0.0065821  0.00694089\n",
      "  0.00378257 0.00510981]\n",
      " [0.00541059 0.00477086 0.0039784  0.00505773 0.00470322 0.0069272\n",
      "  0.0037468  0.00643169]]\n"
     ]
    }
   ],
   "source": [
    "from tensorflow import keras\n",
    "import numpy as np\n",
    "vocab_size = 10\n",
    "np.random.seed(2)\n",
    "input_array = np.random.randint(0,10,(5,3))\n",
    "model = keras.Sequential()\n",
    "model.add(keras.layers.Embedding(vocab_size, 8,input_length=3))\n",
    "model.compile('rmsprop', 'mse')\n",
    "c = np.random.random((10,8))\n",
    "model.layers[0].set_weights([c*0.01])\n",
    "output_array = model.predict(input_array)\n",
    "print('*'*8)\n",
    "print(output_array)\n",
    "print(output_array.shape)\n",
    "print(np.average(output_array,axis=1))"
   ]
  },
  {
   "cell_type": "code",
   "execution_count": null,
   "metadata": {},
   "outputs": [],
   "source": []
  }
 ],
 "metadata": {
  "kernelspec": {
   "display_name": "Python 3",
   "language": "python",
   "name": "python3"
  },
  "language_info": {
   "codemirror_mode": {
    "name": "ipython",
    "version": 3
   },
   "file_extension": ".py",
   "mimetype": "text/x-python",
   "name": "python",
   "nbconvert_exporter": "python",
   "pygments_lexer": "ipython3",
   "version": "3.7.4"
  }
 },
 "nbformat": 4,
 "nbformat_minor": 2
}
